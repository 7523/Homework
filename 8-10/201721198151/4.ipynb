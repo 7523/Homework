{
 "cells": [
  {
   "cell_type": "code",
   "execution_count": 1,
   "metadata": {},
   "outputs": [
    {
     "name": "stdout",
     "output_type": "stream",
     "text": [
      "请输入第1个整数，以回车结束。2\n",
      "请输入第2个整数，以回车结束。3\n",
      "请输入第3个整数，以回车结束。4\n",
      "m!+n!+k!等于 150\n"
     ]
    }
   ],
   "source": [
    "#练习1.仿照求$ \\sum_{i=1}^mi + \\sum_{i=1}^ni  + \\sum_{i=1}^ki$的完整代码，写程序，可求m!+n!+k!\n",
    "def compute_fact(end):\n",
    "    i=0\n",
    "    fact_n=1\n",
    "    while i<=end:\n",
    "        i=i+1\n",
    "        fact_n=fact_n*i\n",
    "        \n",
    "    return fact_n\n",
    "\n",
    "#主程序\n",
    "n = int(input('请输入第1个整数，以回车结束。'))\n",
    "m = int(input('请输入第2个整数，以回车结束。'))\n",
    "k = int(input('请输入第3个整数，以回车结束。'))\n",
    "\n",
    "print('m!+n!+k!等于',compute_fact(n)+compute_fact(m)+compute_fact(k))"
   ]
  },
  {
   "cell_type": "code",
   "execution_count": 4,
   "metadata": {},
   "outputs": [
    {
     "name": "stdout",
     "output_type": "stream",
     "text": [
      "请输入一个整数，以回车结束。1000\n",
      "请输入一个整数，以回车结束。10000\n",
      "4倍的和是： 3.1425916543395442\n",
      "4倍的和是： 3.1416926435905346\n"
     ]
    }
   ],
   "source": [
    "#练习2.写函数可返回1 - 1/3 + 1/5 - 1/7...的前n项的和。在主程序中，分别令n=1000及100000，打印4倍该函数的和。\n",
    "def computer_sum(end):\n",
    "    i=0\n",
    "    total_n=0\n",
    "    \n",
    "    while i<=end:\n",
    "        i=i+1\n",
    "        n=((-1)**(i+1))*((1)/(2*i-(1)))\n",
    "        total_n=total_n+n\n",
    "        \n",
    "    return total_n\n",
    "\n",
    "n = int(input('请输入一个整数，以回车结束。'))\n",
    "m = int(input('请输入一个整数，以回车结束。'))\n",
    "\n",
    "print('4倍的和是：',4*computer_sum(n))\n",
    "print('4倍的和是：',4*computer_sum(m))"
   ]
  },
  {
   "cell_type": "code",
   "execution_count": 9,
   "metadata": {},
   "outputs": [
    {
     "name": "stdout",
     "output_type": "stream",
     "text": [
      "请输入您的出生月份（例：12）12\n",
      "月\n",
      "请输入你的出生日期（例：3）1\n",
      "日\n",
      "你是有性格的 射手座Sagittarius\n",
      "请输入你想要查询的英语名词：Tim\n",
      "该英语名词的复数为 Tims\n"
     ]
    }
   ],
   "source": [
    "#练习 1：写程序，可由键盘读入用户姓名例如Mr. right，让用户输入出生的月份与日期，判断用户星座，假设用户是金牛座，则输出，Mr. right，你是非常有性格的金牛座！。\n",
    "def constellation(m):\n",
    "    if (m>=3.21 and m<=3.31)or(m>=4.01 and  m<=4.19):\n",
    "        kind='白羊座Aries'\n",
    "    elif (m>=4.20 and m<=4.30)or(m>=5.01 and m<=5.20):\n",
    "        kind='金牛座Taures'\n",
    "    elif (m>=5.21 and m<=5.31)or(m>=6.01 and m<=6.21):\n",
    "        kind='双子座Gemini'\n",
    "    elif (m>=6.22 and m<=6.30)or(m>=7.01 and m<=7.22):\n",
    "        kind='巨蟹座Cancer'\n",
    "    elif (m>=7.23 and m<=7.31)or(m>=8.01 and m<=8.22):\n",
    "        kind='狮子座Leo'\n",
    "    elif (m>=8.23 and m<=8.31)or(m>=9.01 and m<=9.22):\n",
    "        kind='处女座Virgo'\n",
    "    elif (m>=9.23 and m<=9.30)or(m>=10.01 and m<=10.23):\n",
    "        kind='天秤座Libra'\n",
    "    elif (m>=10.24 and m<=10.30)or(m>=11.01 and m<=11.22):\n",
    "        kind= '天蝎座Scorpio'\n",
    "    elif (m>=11.23 and m<=11.30)or(m>=12.01 and m<=12.21):\n",
    "        kind='射手座Sagittarius'\n",
    "    elif (m>=12.22 and m<=12.31)or(m>=1.01 and m<=1.19):\n",
    "        kind='摩羯座Capricorn'\n",
    "    elif (m>=1.20 and m<=1.31)or(m>=2.01 and m<=2.18):\n",
    "        kind='水瓶座Aquarius'\n",
    "    elif (m>=2.19 and m<=2.29)or(m>=3.01 and m<=3.20):\n",
    "        kind='双鱼座Prices'\n",
    "    else:\n",
    "        kind='您输入的日期不符合要求！'\n",
    "    return kind\n",
    "\n",
    "        \n",
    "month=int(input('请输入您的出生月份（例：12）'))\n",
    "print('月')\n",
    "date=int(input('请输入你的出生日期（例：3）'))\n",
    "print('日')\n",
    "day=float(month+0.01*date)\n",
    "    \n",
    "\n",
    "print('你是有性格的',constellation(day))\n",
    "\n",
    "\n",
    "\n",
    "def my_word(word):    \n",
    "    if word.endswith('y'):  \n",
    "        change=(word[:-1] + 'ies')  \n",
    "    elif word[-1] in ['s','x'] or word[-2:] in ['sh', 'ch']:  #为什么我把['s','x']改成'sx'也可以？\n",
    "        change=(word + 'es')  \n",
    "    elif word.endswith('an'):  \n",
    "        change=(word[:-2] + 'en')  \n",
    "    elif word[-1] in ['f'] or word[-2:] in ['fe']:\n",
    "        change=(word[:-2]+'ves')\n",
    "    else:  \n",
    "        change=(word + 's')\n",
    "    return change\n",
    "\n",
    "word=input('请输入你想要查询的英语名词：')\n",
    "print('该英语名词的复数为',my_word(word))"
   ]
  },
  {
   "cell_type": "code",
   "execution_count": null,
   "metadata": {
    "collapsed": true
   },
   "outputs": [],
   "source": [
    "#挑战性练习\n",
    "\n",
    "def summation():\n",
    "    total=0\n",
    "    a=m\n",
    "    b=n\n",
    "    h=k\n",
    "    if a>=b:\n",
    "        i=a\n",
    "        a=b\n",
    "        b=i\n",
    "    while a<=b:\n",
    "        total=total+a\n",
    "        a=a+h\n",
    "    return total\n",
    "\n",
    "name=input('请输入您的名字，按回车结束：')\n",
    "print('hello,欢迎来到python的世界！')\n",
    "m=int(input('请输入一个整数，按回车结束:'))\n",
    "n=int(input('请输入另一个整数，按回车结束：'))\n",
    "k=int(input('请输入间隔值，按回车结束'))\n",
    "print('求和：',summation())   \n",
    "print('再见',name)"
   ]
  },
  {
   "cell_type": "code",
   "execution_count": null,
   "metadata": {
    "collapsed": true
   },
   "outputs": [],
   "source": []
  },
  {
   "cell_type": "code",
   "execution_count": null,
   "metadata": {
    "collapsed": true
   },
   "outputs": [],
   "source": []
  },
  {
   "cell_type": "raw",
   "metadata": {},
   "source": []
  },
  {
   "cell_type": "code",
   "execution_count": null,
   "metadata": {
    "collapsed": true
   },
   "outputs": [],
   "source": []
  },
  {
   "cell_type": "code",
   "execution_count": null,
   "metadata": {
    "collapsed": true
   },
   "outputs": [],
   "source": []
  },
  {
   "cell_type": "code",
   "execution_count": null,
   "metadata": {
    "collapsed": true
   },
   "outputs": [],
   "source": []
  },
  {
   "cell_type": "code",
   "execution_count": null,
   "metadata": {
    "collapsed": true
   },
   "outputs": [],
   "source": []
  },
  {
   "cell_type": "code",
   "execution_count": null,
   "metadata": {
    "collapsed": true
   },
   "outputs": [],
   "source": []
  },
  {
   "cell_type": "code",
   "execution_count": null,
   "metadata": {
    "collapsed": true
   },
   "outputs": [],
   "source": []
  },
  {
   "cell_type": "code",
   "execution_count": null,
   "metadata": {
    "collapsed": true
   },
   "outputs": [],
   "source": []
  },
  {
   "cell_type": "code",
   "execution_count": null,
   "metadata": {
    "collapsed": true
   },
   "outputs": [],
   "source": []
  },
  {
   "cell_type": "code",
   "execution_count": null,
   "metadata": {
    "collapsed": true
   },
   "outputs": [],
   "source": []
  },
  {
   "cell_type": "code",
   "execution_count": null,
   "metadata": {
    "collapsed": true
   },
   "outputs": [],
   "source": []
  }
 ],
 "metadata": {
  "kernelspec": {
   "display_name": "Python 3",
   "language": "python",
   "name": "python3"
  },
  "language_info": {
   "codemirror_mode": {
    "name": "ipython",
    "version": 3
   },
   "file_extension": ".py",
   "mimetype": "text/x-python",
   "name": "python",
   "nbconvert_exporter": "python",
   "pygments_lexer": "ipython3",
   "version": "3.6.2"
  }
 },
 "nbformat": 4,
 "nbformat_minor": 2
}
