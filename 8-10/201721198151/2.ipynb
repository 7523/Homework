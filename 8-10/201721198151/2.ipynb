{
 "cells": [
  {
   "cell_type": "code",
   "execution_count": null,
   "metadata": {
    "collapsed": true
   },
   "outputs": [],
   "source": [
    "#练习1：仿照任务2完整代码，打印n!。\n",
    "n = int(input('请输入一个正整数，以回车结束。'))\n",
    "\n",
    "i = 1\n",
    "total = 1\n",
    "\n",
    "while i < n:\n",
    "    i = i + 1\n",
    "    total = total * i\n",
    "\n",
    "print(total)\n",
    "#仿照实践1，写出由用户指定整数个数，并由用户输入多个整数，并求和的代码。\n",
    "n=int(input('请输入整数个数'))\n",
    "sum=0\n",
    "i=0\n",
    "while i<n:\n",
    "    m=int(input('请输入整数'))\n",
    "    sum=sum+m\n",
    "    i=i+1\n",
    "print('输入的整数和为:',sum)\n",
    "#用户可以输入的任意多个数字，直到用户不想输入为止。\n",
    "sum=0\n",
    "while 1:\n",
    "    n=int(input('输入0结束输入'))\n",
    "    if n!=0:\n",
    "        sum=sum+n\n",
    "    else:\n",
    "        print('输入数合为:',sum)\n",
    "        break\n",
    "#用户可以输入的任意多个数字，直到: 输入所有数字的和比当前输入数字小，且输入所有数字的积大于500。\n",
    "while 1:\n",
    "    n=int(input('请输入：'))\n",
    "    sum=n\n",
    "    product=n\n",
    "    if sum<n and product<n*n:\n",
    "        break\n",
    "    else:\n",
    "        sum=sum+n\n",
    "        product=product*n\n"
   ]
  }
 ],
 "metadata": {
  "kernelspec": {
   "display_name": "Python 3",
   "language": "python",
   "name": "python3"
  },
  "language_info": {
   "codemirror_mode": {
    "name": "ipython",
    "version": 3
   },
   "file_extension": ".py",
   "mimetype": "text/x-python",
   "name": "python",
   "nbconvert_exporter": "python",
   "pygments_lexer": "ipython3",
   "version": "3.6.2"
  }
 },
 "nbformat": 4,
 "nbformat_minor": 2
}
